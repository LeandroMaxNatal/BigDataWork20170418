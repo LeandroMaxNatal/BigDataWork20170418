{
 "cells": [
  {
   "cell_type": "code",
   "execution_count": 1,
   "metadata": {
    "collapsed": false
   },
   "outputs": [
    {
     "name": "stdout",
     "output_type": "stream",
     "text": [
      "Populating the interactive namespace from numpy and matplotlib\n"
     ]
    }
   ],
   "source": [
    "# Load relevant libraries\n",
    "import pandas as pd\n",
    "import numpy as np\n",
    "import matplotlib\n",
    "import folium\n",
    "import geocoder\n",
    "from tqdm import tqdm\n",
    "%pylab inline\n",
    "pylab.rcParams['figure.figsize'] = (10, 8)"
   ]
  },
  {
   "cell_type": "code",
   "execution_count": 2,
   "metadata": {
    "collapsed": false
   },
   "outputs": [
    {
     "data": {
      "text/html": [
       "<div>\n",
       "<table border=\"1\" class=\"dataframe\">\n",
       "  <thead>\n",
       "    <tr style=\"text-align: right;\">\n",
       "      <th></th>\n",
       "      <th>Estabelecimento</th>\n",
       "      <th>Educação Infantil</th>\n",
       "      <th>Ensino Fundamental</th>\n",
       "      <th>EJA</th>\n",
       "    </tr>\n",
       "  </thead>\n",
       "  <tbody>\n",
       "    <tr>\n",
       "      <th>0</th>\n",
       "      <td>CMEI PROFA MARIA ITACIRA BENTO</td>\n",
       "      <td>5</td>\n",
       "      <td>0</td>\n",
       "      <td>0</td>\n",
       "    </tr>\n",
       "    <tr>\n",
       "      <th>1</th>\n",
       "      <td>CMEI PROFA MARIA LUIZA SANTOS DE SOUZA</td>\n",
       "      <td>49</td>\n",
       "      <td>0</td>\n",
       "      <td>0</td>\n",
       "    </tr>\n",
       "    <tr>\n",
       "      <th>2</th>\n",
       "      <td>CMEI PROFA MARIA SALETE ALVES BILA</td>\n",
       "      <td>99</td>\n",
       "      <td>0</td>\n",
       "      <td>0</td>\n",
       "    </tr>\n",
       "    <tr>\n",
       "      <th>3</th>\n",
       "      <td>CMEI PROFA TELMA REJANE MOURA FREIRE</td>\n",
       "      <td>1</td>\n",
       "      <td>0</td>\n",
       "      <td>0</td>\n",
       "    </tr>\n",
       "    <tr>\n",
       "      <th>4</th>\n",
       "      <td>ESC MUL ESTUDANTE EMMANUEL BEZERRA</td>\n",
       "      <td>0</td>\n",
       "      <td>346</td>\n",
       "      <td>21</td>\n",
       "    </tr>\n",
       "    <tr>\n",
       "      <th>5</th>\n",
       "      <td>ESC MUL JOÃO XXIII</td>\n",
       "      <td>0</td>\n",
       "      <td>15</td>\n",
       "      <td>0</td>\n",
       "    </tr>\n",
       "    <tr>\n",
       "      <th>6</th>\n",
       "      <td>ESC MUL JUVENAL LAMARTINE</td>\n",
       "      <td>15</td>\n",
       "      <td>183</td>\n",
       "      <td>0</td>\n",
       "    </tr>\n",
       "    <tr>\n",
       "      <th>7</th>\n",
       "      <td>ESC MUL MONSENHOR JOSÉ ALVES LANDIM</td>\n",
       "      <td>0</td>\n",
       "      <td>98</td>\n",
       "      <td>0</td>\n",
       "    </tr>\n",
       "    <tr>\n",
       "      <th>8</th>\n",
       "      <td>ESC MUL PROF ARNALDO MONTEIRO BEZERRA</td>\n",
       "      <td>32</td>\n",
       "      <td>128</td>\n",
       "      <td>0</td>\n",
       "    </tr>\n",
       "    <tr>\n",
       "      <th>9</th>\n",
       "      <td>ESC MUL PROF ASCENDINO DE ALMEIDA</td>\n",
       "      <td>0</td>\n",
       "      <td>313</td>\n",
       "      <td>0</td>\n",
       "    </tr>\n",
       "  </tbody>\n",
       "</table>\n",
       "</div>"
      ],
      "text/plain": [
       "                          Estabelecimento  Educação Infantil  \\\n",
       "0          CMEI PROFA MARIA ITACIRA BENTO                  5   \n",
       "1  CMEI PROFA MARIA LUIZA SANTOS DE SOUZA                 49   \n",
       "2      CMEI PROFA MARIA SALETE ALVES BILA                 99   \n",
       "3    CMEI PROFA TELMA REJANE MOURA FREIRE                  1   \n",
       "4      ESC MUL ESTUDANTE EMMANUEL BEZERRA                  0   \n",
       "5                      ESC MUL JOÃO XXIII                  0   \n",
       "6               ESC MUL JUVENAL LAMARTINE                 15   \n",
       "7     ESC MUL MONSENHOR JOSÉ ALVES LANDIM                  0   \n",
       "8   ESC MUL PROF ARNALDO MONTEIRO BEZERRA                 32   \n",
       "9       ESC MUL PROF ASCENDINO DE ALMEIDA                  0   \n",
       "\n",
       "   Ensino Fundamental  EJA  \n",
       "0                   0    0  \n",
       "1                   0    0  \n",
       "2                   0    0  \n",
       "3                   0    0  \n",
       "4                 346   21  \n",
       "5                  15    0  \n",
       "6                 183    0  \n",
       "7                  98    0  \n",
       "8                 128    0  \n",
       "9                 313    0  "
      ]
     },
     "execution_count": 2,
     "metadata": {},
     "output_type": "execute_result"
    }
   ],
   "source": [
    "# Import pandas\n",
    "import pandas as pd\n",
    "\n",
    "# Assign url of file: url\n",
    "url = 'http://ckan.imd.ufrn.br/dataset/8190fe9a-9766-406d-8cb1-52aa3d59a924/resource/44ed2dbc-918e-438f-8b09-963e66471844/download/alunos-que-utilizam-transporte-escolar.csv'\n",
    "\n",
    "# Read file into a DataFrame and print its head\n",
    "df = pd.read_csv(url)\n",
    "df.head(10)"
   ]
  }
 ],
 "metadata": {
  "kernelspec": {
   "display_name": "Python 3",
   "language": "python",
   "name": "python3"
  },
  "language_info": {
   "codemirror_mode": {
    "name": "ipython",
    "version": 3
   },
   "file_extension": ".py",
   "mimetype": "text/x-python",
   "name": "python",
   "nbconvert_exporter": "python",
   "pygments_lexer": "ipython3",
   "version": "3.6.0"
  }
 },
 "nbformat": 4,
 "nbformat_minor": 2
}
